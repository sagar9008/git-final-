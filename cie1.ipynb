{
 "cells": [
  {
   "cell_type": "code",
   "execution_count": 22,
   "id": "5e115f08-a32a-442f-86a4-e839f47dedf1",
   "metadata": {},
   "outputs": [
    {
     "name": "stdout",
     "output_type": "stream",
     "text": [
      "concatenateing of two arrays\n",
      "[[ 2  5  9 11]\n",
      " [ 6  8 16 18]]\n",
      "\n",
      " reverse of data\n",
      "[[8 6]\n",
      " [5 2]]\n",
      "\n",
      " axis of the data\n",
      "[[ 2  5]\n",
      " [ 6  8]\n",
      " [ 9 11]\n",
      " [16 18]]\n"
     ]
    }
   ],
   "source": [
    "# Concatenateing program with flip and axis function\n",
    "import numpy as np\n",
    "# declaration of array \n",
    "arr1=np.array([[2,5],[6,8]])\n",
    "arr2=np.array([[9,11],[16,18]])\n",
    "# concatenateing\n",
    "con=np.concatenate((arr1,arr2),axis=1)\n",
    "y=np.concatenate((arr1,arr2),axis=0)\n",
    "reverse=(np.flip(arr1))\n",
    "print(\"concatenateing of two arrays\")\n",
    "print(con)\n",
    "print(\"\\n reverse of data\")\n",
    "print(reverse)\n",
    "print(\"\\n axis of the data\")\n",
    "print(y)"
   ]
  },
  {
   "cell_type": "code",
   "execution_count": null,
   "id": "c3f87286-00e6-4cb7-8485-a10e6a278a1f",
   "metadata": {},
   "outputs": [],
   "source": []
  }
 ],
 "metadata": {
  "kernelspec": {
   "display_name": "Python 3 (ipykernel)",
   "language": "python",
   "name": "python3"
  },
  "language_info": {
   "codemirror_mode": {
    "name": "ipython",
    "version": 3
   },
   "file_extension": ".py",
   "mimetype": "text/x-python",
   "name": "python",
   "nbconvert_exporter": "python",
   "pygments_lexer": "ipython3",
   "version": "3.12.4"
  }
 },
 "nbformat": 4,
 "nbformat_minor": 5
}
